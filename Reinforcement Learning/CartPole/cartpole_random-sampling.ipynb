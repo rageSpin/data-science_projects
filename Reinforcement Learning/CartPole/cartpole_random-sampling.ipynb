{
 "cells": [
  {
   "cell_type": "code",
   "execution_count": null,
   "metadata": {},
   "outputs": [],
   "source": [
    "import gym\n",
    "\n",
    "# Common imports\n",
    "import numpy as np\n",
    "import random\n",
    "import os\n",
    "import collections\n",
    "\n",
    "# to make this notebook's output stable across runs\n",
    "np.random.seed(42)\n",
    "\n",
    "\n",
    "env = gym.make('CartPole-v1')"
   ]
  },
  {
   "attachments": {},
   "cell_type": "markdown",
   "metadata": {},
   "source": [
    "# Best random sampling\n",
    "\n",
    "\n"
   ]
  },
  {
   "cell_type": "code",
   "execution_count": 15,
   "metadata": {},
   "outputs": [],
   "source": [
    "#obs = []\n",
    "def get_random_actions(env, seed):\n",
    "    actions = []\n",
    "\n",
    "    env.seed(seed)\n",
    "    env.reset()\n",
    "\n",
    "    step=0\n",
    "    while True:\n",
    "        step+=1\n",
    "        action = env.action_space.sample()\n",
    "        ob, rewards, terminated, info = env.step(action)\n",
    "        actions.append(action)\n",
    "        if terminated: break\n",
    "    \n",
    "    return actions\n",
    "\n",
    "\n",
    "def explore_actions(env, change_node, actions):\n",
    "    env.seed(seed)\n",
    "    env.reset()\n",
    "\n",
    "    new_actions = []\n",
    "    step=0\n",
    "    for action in actions[:-change_node]:\n",
    "        step+=1\n",
    "        ob, rewards, terminated, info = env.step(action)\n",
    "        new_actions.append(action)\n",
    "        if terminated: break\n",
    "\n",
    "    if not terminated:\n",
    "        # print(\"continue to explore\", len(new_actions))\n",
    "        while True:\n",
    "            step+=1\n",
    "            action = env.action_space.sample()\n",
    "            ob, rewards, terminated, info = env.step(action)\n",
    "            new_actions.append(action)\n",
    "            if terminated: break\n",
    "\n",
    "    return new_actions\n",
    "\n",
    "\n",
    "def find_best_actions(env, actions):\n",
    "    best_actions=[]\n",
    "    best_obs = []\n",
    "    for ep in range(30):\n",
    "        # print(f\" {ep} \".center(80, '*'))\n",
    "        change_node=1\n",
    "        if len(actions) == 500:\n",
    "            return actions\n",
    "        if len(best_actions)>0:\n",
    "            actions = best_actions\n",
    "        best_actions = []\n",
    "        while change_node<len(actions):\n",
    "            new_actions = explore_actions(env, change_node, actions)\n",
    "            if len(new_actions)>len(actions):\n",
    "                # print(len(new_actions), len(actions), change_node)\n",
    "                if len(new_actions)>len(best_actions):\n",
    "                    # print(len(new_actions), len(actions), change_node)\n",
    "                    best_actions=new_actions\n",
    "            change_node+=1\n",
    "        \n",
    "    return best_actions if len(best_actions)>len(actions) else actions\n",
    "\n",
    "\n",
    "def get_obs(env, actions_result):\n",
    "    obs_res = []\n",
    "    for key in actions_result:\n",
    "        env.seed(key)\n",
    "        ob = env.reset()\n",
    "        actions = actions_result[key]\n",
    "        obs = []\n",
    "        for action in actions:\n",
    "            obs.append(ob)\n",
    "            ob, rewards, terminated, info = env.step(action)\n",
    "            \n",
    "            if terminated: break\n",
    "        \n",
    "        obs_res.append(np.array(obs))\n",
    "    \n",
    "    return obs_res\n",
    "\n"
   ]
  },
  {
   "cell_type": "code",
   "execution_count": 16,
   "metadata": {},
   "outputs": [],
   "source": [
    "# seed = 10\n",
    "# actions = get_random_actions(env, seed)\n",
    "# best_actions = find_best_actions(env, actions)"
   ]
  },
  {
   "cell_type": "code",
   "execution_count": null,
   "metadata": {},
   "outputs": [],
   "source": []
  },
  {
   "cell_type": "code",
   "execution_count": 17,
   "metadata": {},
   "outputs": [
    {
     "name": "stdout",
     "output_type": "stream",
     "text": [
      "[0] Actions length improvement: 10 -> 240\n",
      "[1] Actions length improvement: 12 -> 338\n",
      "[5] Actions length improvement: 17 -> 152\n",
      "[10] Actions length improvement: 25 -> 500\n",
      "[21] Actions length improvement: 16 -> 500\n",
      "[42] Actions length improvement: 21 -> 463\n",
      "[47] Actions length improvement: 19 -> 388\n",
      "[63] Actions length improvement: 17 -> 185\n",
      "[84] Actions length improvement: 19 -> 500\n",
      "[100] Actions length improvement: 16 -> 213\n",
      "[121] Actions length improvement: 18 -> 500\n",
      "[144] Actions length improvement: 14 -> 500\n"
     ]
    }
   ],
   "source": [
    "res = {}\n",
    "seeds = [0, 1, 5, 10, 21, 42, 47, 63, 84, 100, 121, 144]\n",
    "for seed in seeds:\n",
    "    actions = get_random_actions(env, seed)\n",
    "    best_actions = find_best_actions(env, actions)\n",
    "    print(f\"[{seed}] Actions length improvement:\",len(actions), \"->\", len(best_actions))\n",
    "    res[seed] = best_actions"
   ]
  },
  {
   "cell_type": "code",
   "execution_count": 18,
   "metadata": {},
   "outputs": [
    {
     "data": {
      "text/plain": [
       "(4479, 4)"
      ]
     },
     "execution_count": 18,
     "metadata": {},
     "output_type": "execute_result"
    }
   ],
   "source": [
    "obs = get_obs(env, res)\n",
    "array_obs = np.concatenate(obs[:])\n",
    "array_obs.shape"
   ]
  },
  {
   "cell_type": "code",
   "execution_count": 19,
   "metadata": {},
   "outputs": [],
   "source": [
    "array_actions = np.concatenate([np.array(act[1]) for act in res.items()][:])"
   ]
  },
  {
   "cell_type": "code",
   "execution_count": null,
   "metadata": {},
   "outputs": [],
   "source": []
  },
  {
   "attachments": {},
   "cell_type": "markdown",
   "metadata": {},
   "source": [
    "# Plot data"
   ]
  },
  {
   "cell_type": "code",
   "execution_count": null,
   "metadata": {},
   "outputs": [],
   "source": [
    "import matplotlib.pyplot as plt\n",
    "\n",
    "color = array_actions\n",
    "speed = array_obs[:, 3]\n",
    "theta = array_obs[:, 2]\n",
    "plt.figure(figsize=(7, 3), dpi=200)\n",
    "plt.scatter(theta, speed, c=color, s=1), #print(obs[:, 2].shape)\n",
    "plt.vlines([0.032, -0.032], ymin=min(speed), ymax=max(speed))\n",
    "plt.hlines([0], xmin=min(theta), xmax=max(theta))\n",
    "plt.xlabel(r'$\\theta$')\n",
    "plt.ylabel('omega')\n",
    "plt.colorbar();"
   ]
  },
  {
   "attachments": {},
   "cell_type": "markdown",
   "metadata": {},
   "source": [
    "# Train LightGBM"
   ]
  },
  {
   "cell_type": "code",
   "execution_count": 21,
   "metadata": {},
   "outputs": [
    {
     "data": {
      "text/plain": [
       "0.8070997990622907"
      ]
     },
     "execution_count": 21,
     "metadata": {},
     "output_type": "execute_result"
    }
   ],
   "source": [
    "from lightgbm import LGBMClassifier\n",
    "from sklearn.metrics import accuracy_score\n",
    "\n",
    "lbc = LGBMClassifier(n_estimators=100)\n",
    "\n",
    "lbc.fit(array_obs, array_actions)\n",
    "accuracy_score(array_actions, lbc.predict(array_obs))"
   ]
  },
  {
   "cell_type": "code",
   "execution_count": 22,
   "metadata": {},
   "outputs": [
    {
     "data": {
      "text/plain": [
       "array([791, 597, 805, 807])"
      ]
     },
     "execution_count": 22,
     "metadata": {},
     "output_type": "execute_result"
    }
   ],
   "source": [
    "lbc.feature_importances_"
   ]
  },
  {
   "attachments": {},
   "cell_type": "markdown",
   "metadata": {},
   "source": [
    "# Test model on environment\n",
    "It suuucks, I saved *next_obs* and not the actual obs"
   ]
  },
  {
   "cell_type": "code",
   "execution_count": 23,
   "metadata": {},
   "outputs": [
    {
     "name": "stdout",
     "output_type": "stream",
     "text": [
      "1 : 500\n",
      "6 : 500\n",
      "11 : 500\n",
      "16 : 500\n",
      "21 : 500\n",
      "26 : 500\n",
      "31 : 500\n",
      "36 : 500\n",
      "41 : 500\n",
      "46 : 500\n",
      "51 : 500\n",
      "56 : 500\n",
      "61 : 500\n",
      "66 : 500\n",
      "71 : 500\n",
      "76 : 500\n",
      "81 : 500\n",
      "86 : 500\n",
      "91 : 500\n",
      "96 : 500\n",
      "101 : 500\n",
      "106 : 500\n",
      "111 : 500\n",
      "116 : 500\n",
      "121 : 500\n",
      "126 : 500\n",
      "131 : 500\n",
      "136 : 500\n",
      "141 : 500\n",
      "146 : 500\n",
      "151 : 500\n",
      "156 : 500\n",
      "161 : 500\n",
      "166 : 500\n",
      "171 : 500\n",
      "176 : 500\n",
      "181 : 500\n",
      "186 : 500\n",
      "191 : 500\n",
      "196 : 500\n"
     ]
    }
   ],
   "source": [
    "steps = []\n",
    "for seed in range(1, 200, 5):\n",
    "    env.seed(seed)\n",
    "    ob = env.reset()\n",
    "\n",
    "    step = 0\n",
    "    while True:\n",
    "        # print(ob.reshape(1, -1).shape)\n",
    "        action = lbc.predict(ob.reshape(1, -1))[0]\n",
    "        # action = res[seeds[4]][step]\n",
    "        ob, reward, terminated, info = env.step(action)\n",
    "        step+=1\n",
    "        if terminated: steps.append(step);break\n",
    "        \n",
    "    print(\"Seed:\", seed, '->',step)"
   ]
  },
  {
   "cell_type": "code",
   "execution_count": 24,
   "metadata": {},
   "outputs": [
    {
     "data": {
      "text/plain": [
       "(500.0, 500.0, 500, 500)"
      ]
     },
     "execution_count": 24,
     "metadata": {},
     "output_type": "execute_result"
    }
   ],
   "source": [
    "np.median(steps), np.mean(steps), np.min(steps), np.max(steps)"
   ]
  },
  {
   "cell_type": "code",
   "execution_count": null,
   "metadata": {},
   "outputs": [],
   "source": []
  }
 ],
 "metadata": {
  "kernelspec": {
   "display_name": "base",
   "language": "python",
   "name": "python3"
  },
  "language_info": {
   "codemirror_mode": {
    "name": "ipython",
    "version": 3
   },
   "file_extension": ".py",
   "mimetype": "text/x-python",
   "name": "python",
   "nbconvert_exporter": "python",
   "pygments_lexer": "ipython3",
   "version": "3.9.13"
  },
  "orig_nbformat": 4,
  "vscode": {
   "interpreter": {
    "hash": "929ea3a73902e04b651b50d7e8bff86e69e28c3f97df2b308a538a481df81bfd"
   }
  }
 },
 "nbformat": 4,
 "nbformat_minor": 2
}
