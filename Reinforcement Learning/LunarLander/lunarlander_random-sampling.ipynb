{
 "cells": [
  {
   "cell_type": "code",
   "execution_count": 1,
   "metadata": {},
   "outputs": [],
   "source": [
    "import gym\n",
    "\n",
    "# Common imports\n",
    "import numpy as np\n",
    "import random\n",
    "import os\n",
    "import collections\n",
    "import matplotlib.pyplot as plt\n",
    "\n",
    "# to make this notebook's output stable across runs\n",
    "np.random.seed(42)\n",
    "\n",
    "\n",
    "env = gym.make('LunarLander-v2')\n"
   ]
  },
  {
   "attachments": {},
   "cell_type": "markdown",
   "metadata": {},
   "source": [
    "# Best random sampling\n",
    "\n",
    "\n"
   ]
  },
  {
   "cell_type": "code",
   "execution_count": 2,
   "metadata": {},
   "outputs": [],
   "source": [
    "#obs = []\n",
    "def get_random_actions(env, seed):\n",
    "    actions = []\n",
    "\n",
    "    env.seed(seed)\n",
    "    env.reset()\n",
    "\n",
    "    step=0\n",
    "    while True:\n",
    "        step+=1\n",
    "        action = env.action_space.sample()\n",
    "        ob, rewards, terminated, info = env.step(action)\n",
    "        actions.append(action)\n",
    "        if terminated: break\n",
    "    \n",
    "    return actions\n",
    "\n",
    "def get_random_rewards(env, seed):\n",
    "    actions = []\n",
    "    rewards = []\n",
    "\n",
    "    env.seed(seed)\n",
    "    env.reset()\n",
    "\n",
    "    step=0\n",
    "    while True:\n",
    "        step+=1\n",
    "        action = env.action_space.sample()\n",
    "        ob, reward, terminated, info = env.step(action)\n",
    "        actions.append(action)\n",
    "        rewards.append(reward)\n",
    "        if terminated: \n",
    "            break\n",
    "    \n",
    "    return rewards, actions\n",
    "\n",
    "\n",
    "def explore_rewards(env, change_node, actions, old_rewards):\n",
    "    env.seed(seed)\n",
    "    env.reset()\n",
    "\n",
    "    new_actions = []\n",
    "    rewards = old_rewards[:-change_node]\n",
    "    \n",
    "    step=0\n",
    "    for action in actions[:-change_node]:\n",
    "        step+=1\n",
    "        ob, reward, terminated, info = env.step(action)\n",
    "        new_actions.append(action)\n",
    "        if terminated: break\n",
    "\n",
    "    if not terminated:\n",
    "        # print(\"continue to explore\", len(new_actions))\n",
    "        while True:\n",
    "            step+=1\n",
    "            action = env.action_space.sample()\n",
    "            ob, reward, terminated, info = env.step(action)\n",
    "            new_actions.append(action), rewards.append(reward)\n",
    "            if terminated: break\n",
    "\n",
    "    return rewards, new_actions\n",
    "    \n",
    "def explore_actions(env, change_node, actions):\n",
    "    env.seed(seed)\n",
    "    env.reset()\n",
    "\n",
    "    new_actions = []\n",
    "\n",
    "    step=0\n",
    "    for action in actions[:-change_node]:\n",
    "        step+=1\n",
    "        ob, rewards, terminated, info = env.step(action)\n",
    "        new_actions.append(action)\n",
    "        if terminated: break\n",
    "\n",
    "    if not terminated:\n",
    "        # print(\"continue to explore\", len(new_actions))\n",
    "        while True:\n",
    "            step+=1\n",
    "            action = env.action_space.sample()\n",
    "            ob, rewards, terminated, info = env.step(action)\n",
    "            new_actions.append(action)\n",
    "            if terminated: break\n",
    "\n",
    "    return new_actions\n",
    "\n",
    "\n",
    "def find_best_rewards(n, env, actions, rewards):\n",
    "    best_actions=[]\n",
    "    best_rewards = []\n",
    "    for ep in range(n):\n",
    "        print(f\" {ep} \".center(80, '*'))\n",
    "        change_node=1\n",
    "        # if len(actions) == 500:\n",
    "        #     return actions\n",
    "        if len(best_actions)>0:\n",
    "            actions = best_actions\n",
    "        if len(best_rewards)>1:\n",
    "            rewards = best_rewards\n",
    "        best_actions = []\n",
    "        best_rewards = [] \n",
    "        while change_node<len(actions) and change_node < 100:\n",
    "            new_rewards, new_actions = explore_rewards(env, change_node, actions, rewards)\n",
    "            if sum(new_rewards)>sum(rewards):\n",
    "                # print(len(new_actions), len(actions), change_node)\n",
    "                #if len(new_actions)>len(best_actions):\n",
    "                print(len(new_actions), len(actions), change_node, sum(new_rewards))\n",
    "                best_actions=new_actions\n",
    "                best_rewards=new_rewards\n",
    "            change_node+=1\n",
    "        \n",
    "    return (best_actions, best_rewards) if len(best_actions)>len(actions) else (actions, rewards)\n",
    "\n",
    "\n",
    "def get_obs(env, actions_result):\n",
    "    obs_res = []\n",
    "    for key in actions_result:\n",
    "        env.seed(key)\n",
    "        ob = env.reset()\n",
    "        actions = actions_result[key]\n",
    "        obs = []\n",
    "        for action in actions:\n",
    "            obs.append(ob)\n",
    "            ob, rewards, terminated, info = env.step(action)\n",
    "            \n",
    "            if terminated: break\n",
    "        \n",
    "        obs_res.append(np.array(obs))\n",
    "    \n",
    "    return obs_res"
   ]
  },
  {
   "cell_type": "code",
   "execution_count": 3,
   "metadata": {},
   "outputs": [
    {
     "name": "stdout",
     "output_type": "stream",
     "text": [
      "************************************** 0 ***************************************\n",
      "106 106 1 -230.50792807771836\n",
      "106 106 8 -215.63410406049408\n",
      "106 106 16 -213.95319334039436\n",
      "107 106 38 -96.45295925022234\n",
      "121 106 62 -49.13643575367429\n",
      "1000 106 65 64.85622015237654\n",
      "************************************** 1 ***************************************\n",
      "1000 1000 1 64.5025176362741\n",
      "1000 1000 2 67.24284770036644\n",
      "1000 1000 12 69.33001976806595\n",
      "1000 1000 37 70.10762088376057\n",
      "1000 1000 63 70.978978457298\n",
      "************************************** 2 ***************************************\n",
      "1000 1000 1 70.21900645623937\n",
      "1000 1000 2 70.978978457298\n",
      "1000 1000 11 71.60459878232841\n",
      "1000 1000 25 71.81340591341346\n",
      "1000 1000 30 73.26645425194943\n",
      "************************************** 3 ***************************************\n",
      "1000 1000 1 73.26645425194943\n",
      "1000 1000 6 73.29869010016598\n",
      "1000 1000 10 73.35821540428077\n",
      "1000 1000 11 73.53880087590565\n",
      "************************************** 4 ***************************************\n",
      "1000 1000 1 72.51960066170429\n",
      "1000 1000 11 72.64962538856149\n",
      "1000 1000 21 73.26568476324282\n",
      "1000 1000 36 73.42916925953358\n",
      "1000 1000 37 73.54821685598813\n"
     ]
    }
   ],
   "source": [
    "seed=0\n",
    "rewards, actions = get_random_rewards(env, seed)\n",
    "\n",
    "new_r, new_act = explore_rewards(env, 50, actions, rewards)\n",
    "# print(sum(new_r), sum(rewards))\n",
    "best_actions, best_rewards = find_best_rewards(5, env, actions, rewards)"
   ]
  },
  {
   "cell_type": "code",
   "execution_count": 4,
   "metadata": {},
   "outputs": [],
   "source": [
    "import time\n",
    "step=0\n",
    "env = gym.make(\"LunarLander-v2\")\n",
    "env.seed(seed)\n",
    "env.reset()\n",
    "\n",
    "while True:\n",
    "    # print(ob.reshape(1, -1).shape)\n",
    "    action = best_actions[step]\n",
    "    # action = res[seeds[4]][step]\n",
    "    ob, reward, terminated, info = env.step(action)\n",
    "    step+=1\n",
    "    env.render()\n",
    "    time.sleep(0.03)\n",
    "    #print(step)\n",
    "    if terminated: break#steps.append(step);break\n",
    "\n",
    "env.close()"
   ]
  },
  {
   "cell_type": "code",
   "execution_count": 5,
   "metadata": {},
   "outputs": [
    {
     "data": {
      "text/plain": [
       "[<matplotlib.lines.Line2D at 0x19d27180700>]"
      ]
     },
     "execution_count": 5,
     "metadata": {},
     "output_type": "execute_result"
    },
    {
     "data": {
      "image/png": "[encoded data removed]",
      "text/plain": [
       "<Figure size 640x480 with 1 Axes>"
      ]
     },
     "metadata": {},
     "output_type": "display_data"
    }
   ],
   "source": [
    "plt.plot(best_rewards)"
   ]
  },
  {
   "cell_type": "code",
   "execution_count": 6,
   "metadata": {},
   "outputs": [],
   "source": [
    "res = {}\n",
    "seeds = [0, 1, 5, 10, 21, 42, 47, 63, 84, 100, 121, 144]\n",
    "for seed in seeds[:2]:\n",
    "    actions = get_random_actions(env, seed)\n",
    "    # best_actions = find_best_actions(env, actions)\n",
    "    # print(f\"[{seed}] Actions length improvement:\",len(actions), \"->\", len(best_actions))\n",
    "    # res[seed] = best_actions"
   ]
  },
  {
   "cell_type": "code",
   "execution_count": 7,
   "metadata": {},
   "outputs": [
    {
     "ename": "ValueError",
     "evalue": "need at least one array to concatenate",
     "output_type": "error",
     "traceback": [
      "\u001b[1;31m---------------------------------------------------------------------------\u001b[0m",
      "\u001b[1;31mValueError\u001b[0m                                Traceback (most recent call last)",
      "\u001b[1;32mc:\\Users\\stefano.giannini_ama\\Documents\\Python\\Learn\\data-science_projects\\Reinforcement Learning\\LunarLander\\lunarlander_random-sampling.ipynb Cell 8\u001b[0m in \u001b[0;36m<cell line: 2>\u001b[1;34m()\u001b[0m\n\u001b[0;32m      <a href='vscode-notebook-cell:/c%3A/Users/stefano.giannini_ama/Documents/Python/Learn/data-science_projects/Reinforcement%20Learning/LunarLander/lunarlander_random-sampling.ipynb#W6sZmlsZQ%3D%3D?line=0'>1</a>\u001b[0m obs \u001b[39m=\u001b[39m get_obs(env, res)\n\u001b[1;32m----> <a href='vscode-notebook-cell:/c%3A/Users/stefano.giannini_ama/Documents/Python/Learn/data-science_projects/Reinforcement%20Learning/LunarLander/lunarlander_random-sampling.ipynb#W6sZmlsZQ%3D%3D?line=1'>2</a>\u001b[0m array_obs \u001b[39m=\u001b[39m np\u001b[39m.\u001b[39;49mconcatenate(obs[:])\n\u001b[0;32m      <a href='vscode-notebook-cell:/c%3A/Users/stefano.giannini_ama/Documents/Python/Learn/data-science_projects/Reinforcement%20Learning/LunarLander/lunarlander_random-sampling.ipynb#W6sZmlsZQ%3D%3D?line=2'>3</a>\u001b[0m array_obs\u001b[39m.\u001b[39mshape\n",
      "File \u001b[1;32m<__array_function__ internals>:180\u001b[0m, in \u001b[0;36mconcatenate\u001b[1;34m(*args, **kwargs)\u001b[0m\n",
      "\u001b[1;31mValueError\u001b[0m: need at least one array to concatenate"
     ]
    }
   ],
   "source": [
    "obs = get_obs(env, res)\n",
    "array_obs = np.concatenate(obs[:])\n",
    "array_obs.shape"
   ]
  },
  {
   "cell_type": "code",
   "execution_count": null,
   "metadata": {},
   "outputs": [],
   "source": [
    "array_actions = np.concatenate([np.array(act[1]) for act in res.items()][:])"
   ]
  },
  {
   "cell_type": "code",
   "execution_count": null,
   "metadata": {},
   "outputs": [],
   "source": []
  },
  {
   "attachments": {},
   "cell_type": "markdown",
   "metadata": {},
   "source": [
    "# Plot data"
   ]
  },
  {
   "cell_type": "code",
   "execution_count": null,
   "metadata": {},
   "outputs": [],
   "source": [
    "\n",
    "\n",
    "color = array_actions\n",
    "speed = array_obs[:, 3]\n",
    "theta = array_obs[:, 2]\n",
    "plt.figure(figsize=(7, 3), dpi=200)\n",
    "plt.scatter(theta, speed, c=color, s=1), #print(obs[:, 2].shape)\n",
    "plt.vlines([0.032, -0.032], ymin=min(speed), ymax=max(speed))\n",
    "plt.hlines([0], xmin=min(theta), xmax=max(theta))\n",
    "plt.xlabel(r'$\\theta$')\n",
    "plt.ylabel('omega')\n",
    "plt.colorbar();"
   ]
  },
  {
   "attachments": {},
   "cell_type": "markdown",
   "metadata": {},
   "source": [
    "# Train LightGBM"
   ]
  },
  {
   "cell_type": "code",
   "execution_count": null,
   "metadata": {},
   "outputs": [],
   "source": [
    "from lightgbm import LGBMClassifier\n",
    "from sklearn.metrics import accuracy_score\n",
    "\n",
    "lbc = LGBMClassifier(n_estimators=100)\n",
    "\n",
    "lbc.fit(array_obs, array_actions)\n",
    "accuracy_score(array_actions, lbc.predict(array_obs))"
   ]
  },
  {
   "cell_type": "code",
   "execution_count": null,
   "metadata": {},
   "outputs": [],
   "source": [
    "lbc.feature_importances_"
   ]
  },
  {
   "attachments": {},
   "cell_type": "markdown",
   "metadata": {},
   "source": [
    "# Test model on environment\n",
    "It suuucks, I saved *next_obs* and not the actual obs"
   ]
  },
  {
   "cell_type": "code",
   "execution_count": null,
   "metadata": {},
   "outputs": [],
   "source": [
    "steps = []\n",
    "for seed in range(1, 200, 5):\n",
    "    env.seed(seed)\n",
    "    ob = env.reset()\n",
    "\n",
    "    step = 0\n",
    "    while True:\n",
    "        # print(ob.reshape(1, -1).shape)\n",
    "        action = lbc.predict(ob.reshape(1, -1))[0]\n",
    "        # action = res[seeds[4]][step]\n",
    "        ob, reward, terminated, info = env.step(action)\n",
    "        step+=1\n",
    "        if terminated: steps.append(step);break\n",
    "        \n",
    "    print(seed, ':',step)"
   ]
  },
  {
   "cell_type": "code",
   "execution_count": null,
   "metadata": {},
   "outputs": [],
   "source": [
    "np.median(steps), np.mean(steps), np.min(steps), np.max(steps)"
   ]
  },
  {
   "cell_type": "code",
   "execution_count": null,
   "metadata": {},
   "outputs": [],
   "source": []
  }
 ],
 "metadata": {
  "kernelspec": {
   "display_name": "base",
   "language": "python",
   "name": "python3"
  },
  "language_info": {
   "codemirror_mode": {
    "name": "ipython",
    "version": 3
   },
   "file_extension": ".py",
   "mimetype": "text/x-python",
   "name": "python",
   "nbconvert_exporter": "python",
   "pygments_lexer": "ipython3",
   "version": "3.9.13"
  },
  "orig_nbformat": 4,
  "vscode": {
   "interpreter": {
    "hash": "929ea3a73902e04b651b50d7e8bff86e69e28c3f97df2b308a538a481df81bfd"
   }
  }
 },
 "nbformat": 4,
 "nbformat_minor": 2
}
